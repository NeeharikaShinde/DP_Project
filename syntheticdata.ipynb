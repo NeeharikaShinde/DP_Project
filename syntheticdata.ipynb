{
 "cells": [],
 "metadata": {
  "kernelspec": {
   "display_name": "Python 3",
   "language": "python",
   "name": "python3"
  },
  "language_info": {
   "codemirror_mode": {
    "name": "ipython",
    "version": 3
   },
   "file_extension": ".py",
   "mimetype": "text/x-python",
   "name": "python",
   "nbconvert_exporter": "python",
   "pygments_lexer": "ipython3",
   "version": "3.11.3"
  },
  "orig_nbformat": 4,
  "vscode": {
   "interpreter": {
    "hash": "20bd85775c832ef51c154de64c17d8a8ee9b1b61d4fc11e8aceecdd095c756d6"
   }
  }
 },
 "nbformat": 4,
 "nbformat_minor": 2
}
